{
 "cells": [
  {
   "cell_type": "code",
   "execution_count": 1,
   "id": "6551f525",
   "metadata": {},
   "outputs": [
    {
     "name": "stdout",
     "output_type": "stream",
     "text": [
      "-----------------\n",
      "Modules imported!\n",
      "-----------------\n"
     ]
    }
   ],
   "source": [
    "# Script only for checking diagnostics (ipm histograms, time tool ampl and fltpos histograms, adu histogram, ePix100 ROI check)\n",
    "\n",
    "import os\n",
    "import sys\n",
    "import numpy as np\n",
    "import matplotlib.pyplot as plt\n",
    "import h5py\n",
    "from pathlib import Path\n",
    "from scipy.ndimage import rotate\n",
    "\n",
    "import XSpect.XSpect_Diagnostics as dt\n",
    "import psana as ps\n",
    "\n",
    "print('-----------------')\n",
    "print('Modules imported!')\n",
    "print('-----------------')"
   ]
  },
  {
   "cell_type": "code",
   "execution_count": 9,
   "id": "1e7e5bb3",
   "metadata": {},
   "outputs": [
    {
     "name": "stdout",
     "output_type": "stream",
     "text": [
      "Run 157 imported\n"
     ]
    }
   ],
   "source": [
    "# run = 339\n",
    "# exp = 'xcsc00121'\n",
    "\n",
    "# keys=['epics/ccm_E','tt/ttCorr','epics/lxt_ttc', 'enc/lasDelay' , 'ipm4/sum','tt/AMPL','epix_2/ROI_0_area'] \n",
    "# names=['ccm','time_tool_correction','lxt_ttc'  ,'encoder','ipm', 'time_tool_ampl','epix']\n",
    "\n",
    "run = 157\n",
    "#exp = 'mfxl1033223'\n",
    "exp = 'mfx101080524'\n",
    "keys=['epics/ccm_E','tt/ttCorr','epics/lxt_ttc', 'enc/lasDelay' , 'ipm_dg1/sum','tt/AMPL','epix_1/ROI_0_area'] \n",
    "names=['ccm','time_tool_correction','lxt_ttc'  ,'encoder','ipm', 'time_tool_ampl','epix']\n",
    "\n",
    "d = dt.diagnostics(run, exp, keys, names)\n"
   ]
  },
  {
   "cell_type": "code",
   "execution_count": 10,
   "id": "f1126a0c",
   "metadata": {},
   "outputs": [
    {
     "data": {
      "text/plain": [
       "<KeysViewHDF5 ['Rayonix', 'Sums', 'UserDataCfg', 'damage', 'ebeam', 'epics', 'epix_1', 'epix_1_env', 'event_time', 'evr', 'feeBld', 'fiducials', 'ipm_dg1', 'ipm_dg2', 'lightStatus']>"
      ]
     },
     "execution_count": 10,
     "metadata": {},
     "output_type": "execute_result"
    }
   ],
   "source": [
    "d.h5.keys()"
   ]
  },
  {
   "cell_type": "code",
   "execution_count": 11,
   "id": "bd85a26b-84e5-45fb-b888-61716dfd95c6",
   "metadata": {},
   "outputs": [
    {
     "data": {
      "text/plain": [
       "<KeysViewHDF5 ['ROI_0_area', 'ROI_0_com', 'ROI_0_max', 'ROI_0_mean', 'ROI_0_sum', 'droplet_nDroplets', 'droplet_nDroplets_all', 'full_com', 'full_max', 'full_mean', 'full_sum', 'var_droplet_sparse', 'var_droplet_sparse_len', 'var_full_sparse', 'var_full_sparse_len']>"
      ]
     },
     "execution_count": 11,
     "metadata": {},
     "output_type": "execute_result"
    }
   ],
   "source": [
    "d.h5['epix_1'].keys()"
   ]
  },
  {
   "cell_type": "code",
   "execution_count": null,
   "id": "3b5a713e-9c1a-476a-8e52-6a641b9704b4",
   "metadata": {},
   "outputs": [],
   "source": [
    "d.h5.keys()"
   ]
  },
  {
   "cell_type": "code",
   "execution_count": null,
   "id": "36695385-2456-4e1e-9222-7ad9e30302b6",
   "metadata": {},
   "outputs": [],
   "source": [
    "d.h5['epix_2'].keys()"
   ]
  },
  {
   "cell_type": "code",
   "execution_count": null,
   "id": "4128ab56-08f8-4012-b270-160bc42ae050",
   "metadata": {},
   "outputs": [],
   "source": [
    "d.h5['Sums'].keys()"
   ]
  },
  {
   "cell_type": "code",
   "execution_count": null,
   "id": "7bc1b95c-2f49-4ece-9248-00a484a6beb8",
   "metadata": {},
   "outputs": [],
   "source": [
    "d.h5['gas_detector'].keys()"
   ]
  },
  {
   "cell_type": "code",
   "execution_count": null,
   "id": "988167eb-8d97-475f-a038-3706f4a7dcfd",
   "metadata": {},
   "outputs": [],
   "source": [
    "# for i in ['11','12','21','22','63','64']:\n",
    "for i in ['11','12','21','22']:\n",
    "    plt.plot(d.h5['gas_detector']['f_'+i+'_ENRC'][:],label=i)\n",
    "plt.legend()"
   ]
  },
  {
   "cell_type": "code",
   "execution_count": null,
   "id": "97f7a7f5-738c-48f5-8cf0-544d4e96c175",
   "metadata": {},
   "outputs": [],
   "source": [
    "x_ev=d.h5['scan']['mcc'][:]\n",
    "fee_spec=d.h5['feeBld']['hproj'][:]\n",
    "gas_det_22=d.h5['gas_detector']['f_22_ENRC'][:]"
   ]
  },
  {
   "cell_type": "code",
   "execution_count": null,
   "id": "d914ed35-fe74-4dd8-b5fe-316e632cd2d0",
   "metadata": {},
   "outputs": [],
   "source": [
    "spec_unique=[]\n",
    "for i in np.unique(x_ev):\n",
    "    index=np.nonzero(x_ev==i)[0]\n",
    "    temp=np.nansum(fee_spec[index],0)\n",
    "    spec_unique.append(temp)\n",
    "    plt.plot(temp,label='%.1f eV'%i)\n",
    "spec_unique=np.array(spec_unique)\n",
    "plt.legend()\n",
    "\n",
    "plt.figure()\n",
    "plt.plot(np.nansum(fee_spec,0))"
   ]
  },
  {
   "cell_type": "code",
   "execution_count": null,
   "id": "48c6ab92-7fea-4a86-99df-bf9625c7199d",
   "metadata": {},
   "outputs": [],
   "source": [
    "spec_unique_n=[]\n",
    "for i in np.unique(x_ev):\n",
    "    index=np.nonzero(x_ev==i)[0]\n",
    "    temp=np.nansum(fee_spec[index],0)\n",
    "    i0_temp=np.nansum(gas_det_22[index],0)\n",
    "    spec_unique_n.append(temp/i0_temp)\n",
    "    plt.plot(temp/i0_temp,label='%.1f eV'%i)\n",
    "spec_unique_n=np.array(spec_unique_n)\n",
    "plt.legend()\n",
    "\n",
    "plt.figure()\n",
    "plt.plot(np.nansum(fee_spec,0)/np.nansum(gas_det_22,0))"
   ]
  },
  {
   "cell_type": "code",
   "execution_count": null,
   "id": "97e6978f-136d-4981-bcc6-c037b0427c0c",
   "metadata": {},
   "outputs": [],
   "source": [
    "spec_unique_n=[]\n",
    "for i in np.unique(x_ev):\n",
    "    index=np.nonzero(x_ev==i)[0]\n",
    "    temp=np.nansum(fee_spec[index],0)\n",
    "    i0_temp=np.nansum(gas_det_22[index],0)\n",
    "    spec_unique_n.append(temp/i0_temp)\n",
    "    plt.plot(temp/i0_temp,label='%.1f eV'%i)\n",
    "spec_unique_n=np.array(spec_unique_n)\n",
    "plt.legend()\n",
    "\n",
    "plt.figure()\n",
    "plt.plot(np.nansum(fee_spec,0)/np.nansum(gas_det_22,0))"
   ]
  },
  {
   "cell_type": "code",
   "execution_count": null,
   "id": "04baea03-b534-4114-a494-1bfc3d228f2e",
   "metadata": {},
   "outputs": [],
   "source": [
    "d.h5['feeBld']['hproj'][:].shape"
   ]
  },
  {
   "cell_type": "code",
   "execution_count": null,
   "id": "934417a7-6c10-43f0-84b8-ea328cb796eb",
   "metadata": {},
   "outputs": [],
   "source": [
    "d.h5['feeBld'].keys()\n",
    "#d.h5['UserDataCfg']['epix_2']['ROI_0__ROI_0_ROI'][:]"
   ]
  },
  {
   "cell_type": "code",
   "execution_count": null,
   "id": "f14350ab-ebda-4902-9055-73c2f503b5b6",
   "metadata": {},
   "outputs": [],
   "source": [
    "plt.imshow(fee_spec,aspect='auto')"
   ]
  },
  {
   "cell_type": "code",
   "execution_count": null,
   "id": "f10b8485-9b71-40cf-988b-4fc6580dea51",
   "metadata": {},
   "outputs": [],
   "source": [
    "meanfee = np.nanmean(fee_spec,axis=0)\n",
    "plt.plot(meanfee)"
   ]
  },
  {
   "cell_type": "code",
   "execution_count": null,
   "id": "28d1a901-3fbe-4a74-9c50-d569d78c907f",
   "metadata": {},
   "outputs": [],
   "source": [
    "d.h5['epix_2'].keys()"
   ]
  },
  {
   "cell_type": "code",
   "execution_count": null,
   "id": "f59c66e4-7888-4084-b357-819084b9c5ea",
   "metadata": {},
   "outputs": [],
   "source": [
    "plt.imshow(d.h5['Sums']['epix_1_calib'][:],aspect='auto') #run 13"
   ]
  },
  {
   "cell_type": "code",
   "execution_count": null,
   "id": "8766dbcd-735c-4d13-a977-20a4c9295fe7",
   "metadata": {},
   "outputs": [],
   "source": [
    "plt.imshow(d.h5['Sums']['epix_1_calib'][:],aspect='auto')"
   ]
  },
  {
   "cell_type": "code",
   "execution_count": null,
   "id": "2983891f-c9c1-4bd8-bc4f-005d91c6ca94",
   "metadata": {},
   "outputs": [],
   "source": [
    "plt.imshow(d.h5['Sums']['epix_2_calib'][:],aspect='auto') #run 13"
   ]
  },
  {
   "cell_type": "code",
   "execution_count": null,
   "id": "2206bda9-fa2e-4083-997f-3977b7ba2035",
   "metadata": {},
   "outputs": [],
   "source": [
    "#epix_2d = np.nanmean(d.h5['epix_1']['ROI_0_area'][:],axis=0)\n",
    "plt.imshow(d.h5['Sums']['epix_2_calib'][:],aspect='auto')"
   ]
  },
  {
   "cell_type": "code",
   "execution_count": null,
   "id": "e56b8de5-edcc-463f-ad97-7bb35cd41424",
   "metadata": {},
   "outputs": [],
   "source": [
    "epix_2d = np.nanmean(d.h5['epix_1']['ROI_0_area'][:],axis=0) # run 13\n",
    "plt.imshow(epix_2d,aspect='auto')"
   ]
  },
  {
   "cell_type": "code",
   "execution_count": null,
   "id": "01eec15b-09ec-46a7-8190-acce221b14e8",
   "metadata": {},
   "outputs": [],
   "source": [
    "epix_2d = np.nanmean(d.h5['epix_1']['ROI_0_area'][:],axis=0)\n",
    "plt.imshow(epix_2d,aspect='auto')"
   ]
  },
  {
   "cell_type": "code",
   "execution_count": null,
   "id": "ae4d7baa-c3ba-45ed-acef-a72d5423ddbe",
   "metadata": {},
   "outputs": [],
   "source": [
    "epix_2d = np.nanmean(d.h5['epix_2']['ROI_0_area'][:],axis=0)\n",
    "plt.imshow(epix_2d,aspect='auto')"
   ]
  },
  {
   "cell_type": "code",
   "execution_count": null,
   "id": "e0cbe741-7ace-4a2f-8bc7-d2f38645dca2",
   "metadata": {},
   "outputs": [],
   "source": [
    "epix_2d = np.nanmean(d.h5['epix_2']['ROI_0_area'][:],axis=0) # run 13\n",
    "plt.imshow(epix_2d,aspect='auto')"
   ]
  },
  {
   "cell_type": "code",
   "execution_count": null,
   "id": "1acaad9c-3508-4c7b-ac42-0ae637f9cd1f",
   "metadata": {},
   "outputs": [],
   "source": [
    "plt.plot(np.nanmean(d.h5['epix_1']['ROI_0_spectrum_projection_data'][:],axis=0))\n",
    "plt.figure()\n",
    "plt.plot(np.nanmean(d.h5['epix_1']['ROI_0_spatial_projection_data'][:],axis=0))"
   ]
  },
  {
   "cell_type": "code",
   "execution_count": null,
   "id": "ec78d04e-2e98-4255-bc26-71509976c304",
   "metadata": {},
   "outputs": [],
   "source": [
    "plt.plot(np.nanmean(d.h5['epix_1']['ROI_0_spectrum_projection_data'][:],axis=0))\n",
    "plt.figure()\n",
    "plt.plot(np.nanmean(d.h5['epix_1']['ROI_0_spatial_projection_data'][:],axis=0))"
   ]
  },
  {
   "cell_type": "code",
   "execution_count": null,
   "id": "388ed27c-c5f4-4434-b638-69de48874329",
   "metadata": {},
   "outputs": [],
   "source": []
  },
  {
   "cell_type": "code",
   "execution_count": null,
   "id": "159f8a5b-757c-4793-a301-37a69b4bab4e",
   "metadata": {},
   "outputs": [],
   "source": []
  },
  {
   "cell_type": "code",
   "execution_count": null,
   "id": "2aa2aabd",
   "metadata": {},
   "outputs": [],
   "source": [
    "d.datadict"
   ]
  },
  {
   "cell_type": "code",
   "execution_count": null,
   "id": "a13adee7-8731-44e1-bcc2-13042d1b4b7d",
   "metadata": {},
   "outputs": [],
   "source": [
    "nshots = 1000\n",
    "thresholds = [3]\n",
    "\n",
    "d.adu_histogram(nshots, thresholds)"
   ]
  },
  {
   "cell_type": "code",
   "execution_count": null,
   "id": "415dd7ae-8731-46e0-953a-02f62ef63e6e",
   "metadata": {},
   "outputs": [],
   "source": [
    "ipm_thres = [10000]\n",
    "\n",
    "d.ipm_histogram(ipm_thres)"
   ]
  },
  {
   "cell_type": "code",
   "execution_count": null,
   "id": "6cba9ca8",
   "metadata": {},
   "outputs": [],
   "source": [
    "#tt_thres = [0.01, 0.1]\n",
    "\n",
    "#d.ttAMPL_histogram(tt_thres)"
   ]
  },
  {
   "cell_type": "code",
   "execution_count": null,
   "id": "81bee1f4",
   "metadata": {},
   "outputs": [],
   "source": [
    "nshots = 1000\n",
    "# ka_roi = [120, 140]\n",
    "kb_roi = [100, 400]\n",
    "#fe_kb_roi = [40,60]\n",
    "\n",
    "d.xes_ROI(nshots, kb_limits = kb_roi)\n"
   ]
  },
  {
   "cell_type": "code",
   "execution_count": null,
   "id": "6de23dc6-7b60-4246-8637-079e853469a2",
   "metadata": {},
   "outputs": [],
   "source": [
    "#nshots = 1000\n",
    "# ka_roi = [120, 140]\n",
    "#kb_roi = [140, 155]\n",
    "#fe_kb_roi = [40,60]\n",
    "\n",
    "#d.xes_ROI(nshots, kb_limits = kb_roi)\n"
   ]
  },
  {
   "cell_type": "code",
   "execution_count": 4,
   "id": "012d4cc4",
   "metadata": {},
   "outputs": [
    {
     "ename": "AttributeError",
     "evalue": "'XAxis' object has no attribute 'set_linewidth'",
     "output_type": "error",
     "traceback": [
      "\u001b[0;31m---------------------------------------------------------------------------\u001b[0m",
      "\u001b[0;31mAttributeError\u001b[0m                            Traceback (most recent call last)",
      "Cell \u001b[0;32mIn[4], line 7\u001b[0m\n\u001b[1;32m      5\u001b[0m h_lims \u001b[38;5;241m=\u001b[39m [\u001b[38;5;241m0\u001b[39m, \u001b[38;5;241m200\u001b[39m]\n\u001b[1;32m      6\u001b[0m v_lims \u001b[38;5;241m=\u001b[39m [\u001b[38;5;241m0\u001b[39m, \u001b[38;5;241m705\u001b[39m]\n\u001b[0;32m----> 7\u001b[0m \u001b[43md\u001b[49m\u001b[38;5;241;43m.\u001b[39;49m\u001b[43mxas_ROI\u001b[49m\u001b[43m(\u001b[49m\u001b[43mnshots\u001b[49m\u001b[43m,\u001b[49m\u001b[43m \u001b[49m\u001b[43mhoriz_limits\u001b[49m\u001b[43m \u001b[49m\u001b[38;5;241;43m=\u001b[39;49m\u001b[43m \u001b[49m\u001b[43mh_lims\u001b[49m\u001b[43m,\u001b[49m\u001b[43m \u001b[49m\u001b[43mvert_limits\u001b[49m\u001b[43m \u001b[49m\u001b[38;5;241;43m=\u001b[39;49m\u001b[43m \u001b[49m\u001b[43mv_lims\u001b[49m\u001b[43m)\u001b[49m\n",
      "File \u001b[0;32m/sdf/data/lcls/ds/mfx/mfx101080524/results/afollmer/XSpecT/XSpect/XSpect_Diagnostics.py:247\u001b[0m, in \u001b[0;36mdiagnostics.xas_ROI\u001b[0;34m(self, nshots, horiz_limits, vert_limits, setrois)\u001b[0m\n\u001b[1;32m    243\u001b[0m data2plot \u001b[38;5;241m=\u001b[39m np\u001b[38;5;241m.\u001b[39mnansum(\u001b[38;5;28mself\u001b[39m\u001b[38;5;241m.\u001b[39mh5[\u001b[38;5;28mself\u001b[39m\u001b[38;5;241m.\u001b[39mdatadict[\u001b[38;5;124m'\u001b[39m\u001b[38;5;124mepix\u001b[39m\u001b[38;5;124m'\u001b[39m]][\u001b[38;5;241m0\u001b[39m:nshots,:,:], axis \u001b[38;5;241m=\u001b[39m \u001b[38;5;241m0\u001b[39m)\n\u001b[1;32m    245\u001b[0m ptype \u001b[38;5;241m=\u001b[39m \u001b[38;5;124m'\u001b[39m\u001b[38;5;124mxas\u001b[39m\u001b[38;5;124m'\u001b[39m\n\u001b[0;32m--> 247\u001b[0m \u001b[38;5;28;43mself\u001b[39;49m\u001b[38;5;241;43m.\u001b[39;49m\u001b[43mroiview\u001b[49m\u001b[43m(\u001b[49m\u001b[43mdata2plot\u001b[49m\u001b[43m,\u001b[49m\u001b[43m \u001b[49m\u001b[43mroi_limits\u001b[49m\u001b[43m,\u001b[49m\u001b[43m \u001b[49m\u001b[43mptype\u001b[49m\u001b[43m)\u001b[49m\n",
      "File \u001b[0;32m/sdf/data/lcls/ds/mfx/mfx101080524/results/afollmer/XSpecT/XSpect/XSpect_Diagnostics.py:108\u001b[0m, in \u001b[0;36mplotting.roiview\u001b[0;34m(self, data, thres, plt_type, energy_dispersive_axis)\u001b[0m\n\u001b[1;32m    105\u001b[0m     \u001b[38;5;28;01mfor\u001b[39;00m axis \u001b[38;5;129;01min\u001b[39;00m [\u001b[38;5;124m'\u001b[39m\u001b[38;5;124mtop\u001b[39m\u001b[38;5;124m'\u001b[39m, \u001b[38;5;124m'\u001b[39m\u001b[38;5;124mbottom\u001b[39m\u001b[38;5;124m'\u001b[39m, \u001b[38;5;124m'\u001b[39m\u001b[38;5;124mleft\u001b[39m\u001b[38;5;124m'\u001b[39m, \u001b[38;5;124m'\u001b[39m\u001b[38;5;124mright\u001b[39m\u001b[38;5;124m'\u001b[39m]:\n\u001b[1;32m    106\u001b[0m             ax\u001b[38;5;241m.\u001b[39mspines[axis]\u001b[38;5;241m.\u001b[39mset_linewidth(width)\n\u001b[0;32m--> 108\u001b[0m \u001b[43mcb\u001b[49m\u001b[38;5;241;43m.\u001b[39;49m\u001b[43max\u001b[49m\u001b[38;5;241;43m.\u001b[39;49m\u001b[43mget_children\u001b[49m\u001b[43m(\u001b[49m\u001b[43m)\u001b[49m\u001b[43m[\u001b[49m\u001b[38;5;241;43m7\u001b[39;49m\u001b[43m]\u001b[49m\u001b[38;5;241;43m.\u001b[39;49m\u001b[43mset_linewidth\u001b[49m(width) \u001b[38;5;66;03m# cb.ax.get_children()[7] is colorbar spine\u001b[39;00m\n\u001b[1;32m    109\u001b[0m fig\u001b[38;5;241m.\u001b[39mtight_layout()\n\u001b[1;32m    110\u001b[0m plt\u001b[38;5;241m.\u001b[39mshow()\n",
      "\u001b[0;31mAttributeError\u001b[0m: 'XAxis' object has no attribute 'set_linewidth'"
     ]
    },
    {
     "data": {
      "image/png": "[encoded data removed]",
      "text/plain": [
       "<Figure size 400x400 with 2 Axes>"
      ]
     },
     "metadata": {},
     "output_type": "display_data"
    }
   ],
   "source": [
    "#nshots = 1000\n",
    "#h_lims = [40, 160]\n",
    "#v_lims = [150, 400]\n",
    "nshots = 1000\n",
    "h_lims = [0, 200]\n",
    "v_lims = [0, 705]\n",
    "d.xas_ROI(nshots, horiz_limits = h_lims, vert_limits = v_lims)"
   ]
  },
  {
   "cell_type": "code",
   "execution_count": null,
   "id": "d704174b-c90b-4b28-9607-e227003db3ae",
   "metadata": {},
   "outputs": [],
   "source": []
  }
 ],
 "metadata": {
  "kernelspec": {
   "display_name": "Python 3 (ipykernel)",
   "language": "python",
   "name": "python3"
  },
  "language_info": {
   "codemirror_mode": {
    "name": "ipython",
    "version": 3
   },
   "file_extension": ".py",
   "mimetype": "text/x-python",
   "name": "python",
   "nbconvert_exporter": "python",
   "pygments_lexer": "ipython3",
   "version": "3.9.20"
  }
 },
 "nbformat": 4,
 "nbformat_minor": 5
}
